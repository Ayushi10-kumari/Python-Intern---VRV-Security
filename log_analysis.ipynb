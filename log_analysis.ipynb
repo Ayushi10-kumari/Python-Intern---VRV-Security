{
 "cells": [
  {
   "cell_type": "markdown",
   "id": "4da6d01d-1a23-420a-bb1d-cd185813b2d0",
   "metadata": {},
   "source": [
    "# Step 1: Create a Log File\n",
    "\n",
    "\n"
   ]
  },
  {
   "cell_type": "code",
   "execution_count": 66,
   "id": "d6fab802-e694-4281-bad8-49f813257283",
   "metadata": {},
   "outputs": [
    {
     "name": "stdout",
     "output_type": "stream",
     "text": [
      "Log file 'sample.log' has been created.\n"
     ]
    }
   ],
   "source": [
    "log_data = \"\"\"192.168.1.1 - - [03/Dec/2024:10:12:34 +0000] \"GET /home HTTP/1.1\" 200 512\n",
    "203.0.113.5 - - [03/Dec/2024:10:12:35 +0000] \"POST /login HTTP/1.1\" 401 128 \"Invalid credentials\"\n",
    "10.0.0.2 - - [03/Dec/2024:10:12:36 +0000] \"GET /about HTTP/1.1\" 200 256\n",
    "192.168.1.1 - - [03/Dec/2024:10:12:37 +0000] \"GET /contact HTTP/1.1\" 200 312\n",
    "198.51.100.23 - - [03/Dec/2024:10:12:38 +0000] \"POST /register HTTP/1.1\" 200 128\n",
    "203.0.113.5 - - [03/Dec/2024:10:12:39 +0000] \"POST /login HTTP/1.1\" 401 128 \"Invalid credentials\"\n",
    "192.168.1.100 - - [03/Dec/2024:10:12:40 +0000] \"POST /login HTTP/1.1\" 401 128 \"Invalid credentials\"\n",
    "10.0.0.2 - - [03/Dec/2024:10:12:41 +0000] \"GET /dashboard HTTP/1.1\" 200 1024\n",
    "198.51.100.23 - - [03/Dec/2024:10:12:42 +0000] \"GET /about HTTP/1.1\" 200 256\n",
    "192.168.1.1 - - [03/Dec/2024:10:12:43 +0000] \"GET /dashboard HTTP/1.1\" 200 1024\n",
    "203.0.113.5 - - [03/Dec/2024:10:12:44 +0000] \"POST /login HTTP/1.1\" 401 128 \"Invalid credentials\"\n",
    "203.0.113.5 - - [03/Dec/2024:10:12:45 +0000] \"POST /login HTTP/1.1\" 401 128 \"Invalid credentials\"\n",
    "192.168.1.100 - - [03/Dec/2024:10:12:46 +0000] \"POST /login HTTP/1.1\" 401 128 \"Invalid credentials\"\n",
    "10.0.0.2 - - [03/Dec/2024:10:12:47 +0000] \"GET /profile HTTP/1.1\" 200 768\n",
    "192.168.1.1 - - [03/Dec/2024:10:12:48 +0000] \"GET /home HTTP/1.1\" 200 512\n",
    "198.51.100.23 - - [03/Dec/2024:10:12:49 +0000] \"POST /feedback HTTP/1.1\" 200 128\n",
    "203.0.113.5 - - [03/Dec/2024:10:12:50 +0000] \"POST /login HTTP/1.1\" 401 128 \"Invalid credentials\"\n",
    "192.168.1.1 - - [03/Dec/2024:10:12:51 +0000] \"GET /home HTTP/1.1\" 200 512\n",
    "198.51.100.23 - - [03/Dec/2024:10:12:52 +0000] \"GET /about HTTP/1.1\" 200 256\n",
    "203.0.113.5 - - [03/Dec/2024:10:12:53 +0000] \"POST /login HTTP/1.1\" 401 128 \"Invalid credentials\"\n",
    "192.168.1.100 - - [03/Dec/2024:10:12:54 +0000] \"POST /login HTTP/1.1\" 401 128 \"Invalid credentials\"\n",
    "10.0.0.2 - - [03/Dec/2024:10:12:55 +0000] \"GET /contact HTTP/1.1\" 200 512\n",
    "198.51.100.23 - - [03/Dec/2024:10:12:56 +0000] \"GET /home HTTP/1.1\" 200 512\n",
    "192.168.1.100 - - [03/Dec/2024:10:12:57 +0000] \"POST /login HTTP/1.1\" 401 128 \"Invalid credentials\"\n",
    "203.0.113.5 - - [03/Dec/2024:10:12:58 +0000] \"POST /login HTTP/1.1\" 401 128 \"Invalid credentials\"\n",
    "10.0.0.2 - - [03/Dec/2024:10:12:59 +0000] \"GET /dashboard HTTP/1.1\" 200 1024\n",
    "192.168.1.1 - - [03/Dec/2024:10:13:00 +0000] \"GET /about HTTP/1.1\" 200 256\n",
    "198.51.100.23 - - [03/Dec/2024:10:13:01 +0000] \"POST /register HTTP/1.1\" 200 128\n",
    "203.0.113.5 - - [03/Dec/2024:10:13:02 +0000] \"POST /login HTTP/1.1\" 401 128 \"Invalid credentials\"\n",
    "192.168.1.100 - - [03/Dec/2024:10:13:03 +0000] \"POST /login HTTP/1.1\" 401 128 \"Invalid credentials\"\n",
    "10.0.0.2 - - [03/Dec/2024:10:13:04 +0000] \"GET /profile HTTP/1.1\" 200 768\n",
    "198.51.100.23 - - [03/Dec/2024:10:13:05 +0000] \"GET /about HTTP/1.1\" 200 256\n",
    "192.168.1.1 - - [03/Dec/2024:10:13:06 +0000] \"GET /home HTTP/1.1\" 200 512\n",
    "198.51.100.23 - - [03/Dec/2024:10:13:07 +0000] \"POST /feedback HTTP/1.1\" 200 128\n",
    "\"\"\"\n",
    "\n",
    "with open(\"sample.log\", \"w\") as file:\n",
    "    file.write(log_data)\n",
    "\n",
    "print(\"Log file 'sample.log' has been created.\")\n"
   ]
  },
  {
   "cell_type": "markdown",
   "id": "529bbff5-3250-4c4e-9667-0a4130c186dc",
   "metadata": {},
   "source": [
    "# Step 2: Import Necessary Modules"
   ]
  },
  {
   "cell_type": "code",
   "execution_count": 67,
   "id": "f1c32176-2574-4698-9a98-bb36bbb2af14",
   "metadata": {},
   "outputs": [],
   "source": [
    "import re\n",
    "import pandas as pd \n",
    "from collections import Counter\n",
    "import csv\n"
   ]
  },
  {
   "cell_type": "code",
   "execution_count": 68,
   "id": "2e17979a-c127-4585-a1e3-973bc07e64db",
   "metadata": {},
   "outputs": [],
   "source": [
    "# Compile regex for parsing log lines\n",
    "# The regex matches fields in a typical log entry: IP, HTTP method, endpoint, and status code.\n",
    "LOG_PATTERN = re.compile(r'^(?P<ip>\\S+) .* \"(?P<method>\\S+) (?P<endpoint>\\S+) .*\" (?P<status>\\d+)')\n",
    "\n",
    "# Generator to process the log file line by line\n",
    "def process_log_file(log_file):\n",
    "    \"\"\"\n",
    "    Reads a log file line by line using a generator to save memory.\n",
    "    This approach is scalable for large log files.\n",
    "    \"\"\"\n",
    "    try:\n",
    "        with open(log_file, 'r') as file:\n",
    "            for line in file:\n",
    "                yield line.strip()  # Yields one line at a time\n",
    "    except FileNotFoundError:\n",
    "        print(f\"Error: File '{log_file}' not found.\")\n",
    "        return\n",
    "    except Exception as e:\n",
    "        print(f\"An error occurred: {e}\")\n",
    "        return\n",
    "\n",
    "# Function to parse a log line using the compiled regex\n",
    "def parse_log_line(line):\n",
    "    \"\"\"\n",
    "    Parses a log line using the compiled regex pattern.\n",
    "    Returns a dictionary with extracted fields or None if the line doesn't match.\n",
    "    \"\"\"\n",
    "    match = LOG_PATTERN.match(line)\n",
    "    if match:\n",
    "        return match.groupdict()  # Returns a dictionary of extracted fields\n",
    "    return None"
   ]
  },
  {
   "cell_type": "markdown",
   "id": "8b3fdd72-ad39-47fd-a9f1-0c4e9684c9a9",
   "metadata": {},
   "source": [
    "# Step 3: Count Requests per IP Address:\n",
    "### Parse the provided log file to extract all IP addresses.\n",
    "### Calculate the number of requests made by each IP address.\n",
    "### Sort and display the results in descending order of request counts.\n",
    "### Example output:\n",
    "#### IP Address           Request Count\n",
    "#### 192.168.1.1          234\n",
    "#### 203.0.113.5          187\n",
    "#### 10.0.0.2             92"
   ]
  },
  {
   "cell_type": "code",
   "execution_count": 69,
   "id": "c0cf2047-861e-4e3e-8ee2-8638d97aa16b",
   "metadata": {},
   "outputs": [],
   "source": [
    "# Function to count requests per IP\n",
    "def count_requests_per_ip(log_file):\n",
    "    \"\"\"\n",
    "    Counts the number of requests made by each IP address in the log file.\n",
    "    \"\"\"\n",
    "    ip_counter = Counter()\n",
    "    for line in process_log_file(log_file):  # Processes one line at a time\n",
    "        log_data = parse_log_line(line)\n",
    "        if log_data:\n",
    "            ip = log_data['ip']  # Extracts the IP address\n",
    "            ip_counter[ip] += 1  # Increments the count for the IP\n",
    "\n",
    "    # Output results in a formatted table\n",
    "    print(f\"{'IP Address':<20}{'Request Count':<15}\")\n",
    "    print(\"-\" * 35)\n",
    "    for ip, count in ip_counter.items():\n",
    "        print(f\"{ip:<20}{count:<15}\")\n",
    "    return ip_counter"
   ]
  },
  {
   "cell_type": "markdown",
   "id": "5a2bdc7c-d2e9-4569-8e57-0ac77d7e2dd4",
   "metadata": {},
   "source": [
    "# Identify the Most Frequently Accessed Endpoint:\n",
    "### Extract the endpoints (e.g., URLs or resource paths) from the log file.\n",
    "### Identify the endpoint accessed the highest number of times.\n",
    "### Provide the endpoint name and its access count.\n",
    "#### Example output:\n",
    "#### Most Frequently Accessed Endpoint:\n",
    "#### /home (Accessed 403 times)"
   ]
  },
  {
   "cell_type": "code",
   "execution_count": 70,
   "id": "59480265-e6c8-4c19-9f54-d4be3547bad8",
   "metadata": {},
   "outputs": [],
   "source": [
    "# Function to identify the most frequently accessed endpoint\n",
    "def most_frequent_endpoint(log_file):\n",
    "    \"\"\"\n",
    "    Identifies the endpoint that is accessed most frequently.\n",
    "    \"\"\"\n",
    "    endpoint_counter = Counter()\n",
    "    for line in process_log_file(log_file):\n",
    "        log_data = parse_log_line(line)\n",
    "        if log_data:\n",
    "            endpoint = log_data['endpoint']  # Extracts the endpoint\n",
    "            endpoint_counter[endpoint] += 1  # Increments the count for the endpoint\n",
    "\n",
    "    # Find and print the most accessed endpoint\n",
    "    most_frequent = endpoint_counter.most_common(1)[0] if endpoint_counter else None\n",
    "    if most_frequent:\n",
    "        print(\"Most Frequently Accessed Endpoint:\")\n",
    "        print(f\"{most_frequent[0]} (Accessed {most_frequent[1]} times)\")\n",
    "    return most_frequent\n"
   ]
  },
  {
   "cell_type": "markdown",
   "id": "15e84e41-3bce-4e7b-8da2-d2f93a5f61a7",
   "metadata": {},
   "source": [
    "# Detect Suspicious Activity:\n",
    "### Identify potential brute force login attempts by:\n",
    "### Searching for log entries with failed login attempts (e.g., HTTP status code 401 or a specific failure message like \"Invalid credentials\").\n",
    "### Flagging IP addresses with failed login attempts exceeding a configurable threshold (default: 10 attempts).\n",
    "### Display the flagged IP addresses and their failed login counts.\n",
    "#### Example output:\n",
    "#### Suspicious Activity Detected:\n",
    "#### IP Address           Failed Login Attempts\n",
    "#### 192.168.1.100        56\n",
    "#### 203.0.113.34         12"
   ]
  },
  {
   "cell_type": "code",
   "execution_count": 71,
   "id": "e9922960-d001-4281-96e0-407ee6d89994",
   "metadata": {},
   "outputs": [],
   "source": [
    "# Function to detect suspicious activity\n",
    "def detect_suspicious_activity(log_file, threshold=10):\n",
    "    \"\"\"\n",
    "    Detects suspicious IP addresses based on failed login attempts.\n",
    "    An IP is flagged if it has more failed attempts than the threshold.\n",
    "    \"\"\"\n",
    "    failed_attempts = Counter()\n",
    "    for line in process_log_file(log_file):\n",
    "        log_data = parse_log_line(line)\n",
    "        if log_data and log_data['status'] == '401':  # Failed login status\n",
    "            ip = log_data['ip']\n",
    "            failed_attempts[ip] += 1  # Count failed attempts for the IP\n",
    "\n",
    "    # Filter IPs exceeding the threshold\n",
    "    flagged_ips = {ip: count for ip, count in failed_attempts.items() if count > threshold}\n",
    "    if flagged_ips:\n",
    "        print(\"Suspicious Activity Detected:\")\n",
    "        print(f\"{'IP Address':<20}{'Failed Login Attempts':<25}\")\n",
    "        print(\"-\" * 45)\n",
    "        for ip, count in flagged_ips.items():\n",
    "            print(f\"{ip:<20}{count:<25}\")\n",
    "    else:\n",
    "        print(\"No suspicious activity detected.\")\n",
    "    return flagged_ips\n"
   ]
  },
  {
   "cell_type": "markdown",
   "id": "1d952633-b7ab-4df0-8c1d-5daca46e711b",
   "metadata": {},
   "source": [
    "# Step 3: **Output Results**:\n",
    "### Display the results in a clear, organized format in the terminal.\n",
    "### Save the results to a CSV file named `log_analysis_results.csv` with the following structure:\n",
    "#### Requests per IP**: Columns: `IP Address`, `Request Count`\n",
    "#### Most Accessed Endpoint: Columns: `Endpoint`, `Access Count`\n",
    "#### Suspicious Activity: Columns: `IP Address`, `Failed Login Count`"
   ]
  },
  {
   "cell_type": "code",
   "execution_count": 72,
   "id": "89abcd5a-c7fd-4de2-960c-b8129a670317",
   "metadata": {},
   "outputs": [],
   "source": [
    "# Function to save results to a CSV file\n",
    "def save_to_csv(results, output_file):\n",
    "    \"\"\"\n",
    "    Saves the analysis results to a CSV file with separate sections for:\n",
    "    - Requests per IP\n",
    "    - Most accessed endpoint\n",
    "    - Suspicious activity\n",
    "    \"\"\"\n",
    "    with open(output_file, mode=\"w\", newline=\"\") as file:\n",
    "        writer = csv.writer(file)\n",
    "\n",
    "        # Write Requests per IP\n",
    "        writer.writerow([\"Requests per IP\"])\n",
    "        writer.writerow([\"IP Address\", \"Request Count\"])\n",
    "        for ip, count in results['ip_requests'].items():\n",
    "            writer.writerow([ip, count])\n",
    "\n",
    "        # Write Most Accessed Endpoint\n",
    "        writer.writerow([])  # Blank line\n",
    "        writer.writerow([\"Most Accessed Endpoint\"])\n",
    "        if results['most_accessed_endpoint']:\n",
    "            writer.writerow([\"Endpoint\", \"Access Count\"])\n",
    "            writer.writerow(results['most_accessed_endpoint'])\n",
    "\n",
    "        # Write Suspicious Activity\n",
    "        writer.writerow([])  # Blank line\n",
    "        writer.writerow([\"Suspicious Activity\"])\n",
    "        writer.writerow([\"IP Address\", \"Failed Login Count\"])\n",
    "        for ip, count in results['suspicious_activity'].items():\n",
    "            writer.writerow([ip, count])\n"
   ]
  },
  {
   "cell_type": "code",
   "execution_count": 73,
   "id": "1de7c885-326e-4fa8-8d91-394d4d1c4653",
   "metadata": {},
   "outputs": [
    {
     "name": "stdout",
     "output_type": "stream",
     "text": [
      "IP Address          Request Count  \n",
      "-----------------------------------\n",
      "192.168.1.1         7              \n",
      "203.0.113.5         8              \n",
      "10.0.0.2            6              \n",
      "198.51.100.23       8              \n",
      "192.168.1.100       5              \n",
      "Most Frequently Accessed Endpoint:\n",
      "/login (Accessed 13 times)\n",
      "Suspicious Activity Detected:\n",
      "IP Address          Failed Login Attempts    \n",
      "---------------------------------------------\n",
      "203.0.113.5         8                        \n",
      "\n",
      "Results saved to 'log_analysis_results.csv'.\n"
     ]
    }
   ],
   "source": [
    "# Main function to run the analysis\n",
    "def main():\n",
    "    \"\"\"\n",
    "    Main function to perform log analysis and save the results.\n",
    "    \"\"\"\n",
    "    log_file = \"sample.log\"  # Replace with your log file name\n",
    "    threshold = 5  # Define threshold for suspicious activity\n",
    "\n",
    "    # Run analyses\n",
    "    ip_requests = count_requests_per_ip(log_file)\n",
    "    most_accessed_endpoint = most_frequent_endpoint(log_file)\n",
    "    suspicious_activity = detect_suspicious_activity(log_file, threshold)\n",
    "\n",
    "    # Save results to a CSV file\n",
    "    results = {\n",
    "        'ip_requests': ip_requests,\n",
    "        'most_accessed_endpoint': most_accessed_endpoint,\n",
    "        'suspicious_activity': suspicious_activity\n",
    "    }\n",
    "    save_to_csv(results, \"log_analysis_results.csv\")\n",
    "    print(\"\\nResults saved to 'log_analysis_results.csv'.\")\n",
    "\n",
    "# Execute the main function when the script is run\n",
    "if __name__ == \"__main__\":\n",
    "    main()\n"
   ]
  },
  {
   "cell_type": "code",
   "execution_count": null,
   "id": "22c8537e-3861-4b42-9f3c-28a0ed60fa3a",
   "metadata": {},
   "outputs": [],
   "source": []
  }
 ],
 "metadata": {
  "kernelspec": {
   "display_name": "myenv",
   "language": "python",
   "name": "myenv"
  },
  "language_info": {
   "codemirror_mode": {
    "name": "ipython",
    "version": 3
   },
   "file_extension": ".py",
   "mimetype": "text/x-python",
   "name": "python",
   "nbconvert_exporter": "python",
   "pygments_lexer": "ipython3",
   "version": "3.8.20"
  }
 },
 "nbformat": 4,
 "nbformat_minor": 5
}
